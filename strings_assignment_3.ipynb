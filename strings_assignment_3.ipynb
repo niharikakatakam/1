{
  "nbformat": 4,
  "nbformat_minor": 0,
  "metadata": {
    "colab": {
      "provenance": [],
      "include_colab_link": true
    },
    "kernelspec": {
      "name": "python3",
      "display_name": "Python 3"
    },
    "language_info": {
      "name": "python"
    }
  },
  "cells": [
    {
      "cell_type": "markdown",
      "metadata": {
        "id": "view-in-github",
        "colab_type": "text"
      },
      "source": [
        "<a href=\"https://colab.research.google.com/github/niharikakatakam/1/blob/main/strings_assignment_3.ipynb\" target=\"_parent\"><img src=\"https://colab.research.google.com/assets/colab-badge.svg\" alt=\"Open In Colab\"/></a>"
      ]
    },
    {
      "cell_type": "markdown",
      "source": [
        "1.Write a Python program to count the number of vowels in a string.\n",
        "\n",
        "input : hasdfgeuionhjl"
      ],
      "metadata": {
        "id": "q8RkYTES1QUW"
      }
    },
    {
      "cell_type": "code",
      "source": [
        "# write your code here\n",
        "def count_vowels(s):\n",
        "    vowels = \"aeiouAEIOU\"\n",
        "    return sum(1 for char in s if char in vowels)\n"
      ],
      "metadata": {
        "id": "UHi6ezjV1X0s"
      },
      "execution_count": 3,
      "outputs": []
    },
    {
      "cell_type": "markdown",
      "source": [
        "2.Write a Python program to count the occurrences of each word in a sentence.\n",
        "\n",
        "input : hi hello hi and and hi more and more programming"
      ],
      "metadata": {
        "id": "v7GBEK161QWy"
      }
    },
    {
      "cell_type": "code",
      "source": [
        "# write your code here\n",
        "def count_word_occurrences(sentence):\n",
        "    from collections import Counter\n",
        "    words = sentence.split()\n",
        "    return dict(Counter(words))\n"
      ],
      "metadata": {
        "id": "R-UzDybK1uZo"
      },
      "execution_count": 4,
      "outputs": []
    },
    {
      "cell_type": "markdown",
      "source": [
        "3.In python how can you differentiate strings and lists. Give atleast 5 different comparisons between them."
      ],
      "metadata": {
        "id": "evCcw-0H1QY9"
      }
    },
    {
      "cell_type": "markdown",
      "source": [
        "Answer:"
      ],
      "metadata": {
        "id": "OfiTI0pv1QbU"
      }
    },
    {
      "cell_type": "code",
      "source": [
        "def string_vs_list():\n",
        "    comparisons = {\n",
        "        \"Mutability\": \"Strings are immutable, lists are mutable.\",\n",
        "        \"Modification\": \"Strings cannot be changed in place, lists can be modified.\",\n",
        "        \"Indexing\": \"Both support indexing, but lists allow changing elements.\",\n",
        "        \"Operations\": \"Strings support concatenation, lists support append/extend.\",\n",
        "        \"Methods\": \"Different methods: string methods (e.g., upper()), list methods (e.g., append()).\"\n",
        "    }\n",
        "    return comparisons"
      ],
      "metadata": {
        "id": "cz4imQgc8zyt"
      },
      "execution_count": 5,
      "outputs": []
    },
    {
      "cell_type": "markdown",
      "source": [
        "4.Write a string for your own of approximately 40 in length and perform any 5 different string operations on that."
      ],
      "metadata": {
        "id": "riR1PWxG1Qdq"
      }
    },
    {
      "cell_type": "code",
      "source": [
        "#Write your code here\n",
        "\n",
        "\n",
        "def string_operations():\n",
        "    s = \"Python programming is very interesting.\"\n",
        "    return {\n",
        "        \"Uppercase\": s.upper(),\n",
        "        \"Lowercase\": s.lower(),\n",
        "        \"Title Case\": s.title(),\n",
        "        \"Reversed\": s[::-1],\n",
        "        \"Word Count\": len(s.split())\n",
        "    }"
      ],
      "metadata": {
        "id": "3bHyrDS12e8i"
      },
      "execution_count": 2,
      "outputs": []
    },
    {
      "cell_type": "markdown",
      "source": [
        "5.Explain the concatination in strings with a neat example."
      ],
      "metadata": {
        "id": "bbUm7VVN1Qfu"
      }
    },
    {
      "cell_type": "code",
      "source": [
        "#write your code and explanation here\n",
        "def string_concatenation():\n",
        "    s1 = \"Hello, \"\n",
        "    s2 = \"World!\"\n",
        "    return s1 + s2  # Example of string concatenation"
      ],
      "metadata": {
        "id": "y9292Q452tF0"
      },
      "execution_count": 1,
      "outputs": []
    },
    {
      "cell_type": "code",
      "source": [],
      "metadata": {
        "id": "vnMNtJgq2xuG"
      },
      "execution_count": null,
      "outputs": []
    }
  ]
}
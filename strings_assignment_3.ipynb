{
  "nbformat": 4,
  "nbformat_minor": 0,
  "metadata": {
    "colab": {
      "provenance": [],
      "include_colab_link": true
    },
    "kernelspec": {
      "name": "python3",
      "display_name": "Python 3"
    },
    "language_info": {
      "name": "python"
    }
  },
  "cells": [
    {
      "cell_type": "markdown",
      "metadata": {
        "id": "view-in-github",
        "colab_type": "text"
      },
      "source": [
        "<a href=\"https://colab.research.google.com/github/niharikakatakam/1/blob/main/strings_assignment_3.ipynb\" target=\"_parent\"><img src=\"https://colab.research.google.com/assets/colab-badge.svg\" alt=\"Open In Colab\"/></a>"
      ]
    },
    {
      "cell_type": "markdown",
      "source": [
        "1.Write a Python program to count the number of vowels in a string.\n",
        "\n",
        "input : hasdfgeuionhjl"
      ],
      "metadata": {
        "id": "q8RkYTES1QUW"
      }
    },
    {
      "cell_type": "code",
      "source": [
        "# write your code here\n",
        "def count_vowels(s):\n",
        "    vowels = \"aeiouAEIOU\"\n",
        "    return sum(1 for char in s if char in vowels)\n",
        "\n",
        "# Example usage:\n",
        "s = \"hasdfgeuionhjl\"\n",
        "print(\"Number of vowels:\", count_vowels(s))"
      ],
      "metadata": {
        "id": "UHi6ezjV1X0s",
        "colab": {
          "base_uri": "https://localhost:8080/"
        },
        "outputId": "21a3fdc9-a69d-4307-b4b4-aa8b436df761"
      },
      "execution_count": 1,
      "outputs": [
        {
          "output_type": "stream",
          "name": "stdout",
          "text": [
            "Number of vowels: 5\n"
          ]
        }
      ]
    },
    {
      "cell_type": "markdown",
      "source": [
        "2.Write a Python program to count the occurrences of each word in a sentence.\n",
        "\n",
        "input : hi hello hi and and hi more and more programming"
      ],
      "metadata": {
        "id": "v7GBEK161QWy"
      }
    },
    {
      "cell_type": "code",
      "source": [
        "# write your code here\n",
        "def count_word_occurrences(sentence):\n",
        "    from collections import Counter\n",
        "    words = sentence.split()\n",
        "    return dict(Counter(words))\n",
        "\n",
        "# Example usage:\n",
        "sentence = \"hi hello hi and and hi more and more programming\"\n",
        "print(\"Word occurrences:\", count_word_occurrences(sentence))\n",
        "\n"
      ],
      "metadata": {
        "id": "R-UzDybK1uZo",
        "colab": {
          "base_uri": "https://localhost:8080/"
        },
        "outputId": "21002185-2a42-454a-c3f8-1b0aabf11006"
      },
      "execution_count": 2,
      "outputs": [
        {
          "output_type": "stream",
          "name": "stdout",
          "text": [
            "Word occurrences: {'hi': 3, 'hello': 1, 'and': 3, 'more': 2, 'programming': 1}\n"
          ]
        }
      ]
    },
    {
      "cell_type": "markdown",
      "source": [
        "3.In python how can you differentiate strings and lists. Give atleast 5 different comparisons between them."
      ],
      "metadata": {
        "id": "evCcw-0H1QY9"
      }
    },
    {
      "cell_type": "markdown",
      "source": [
        "def string_vs_list():\n",
        "    comparisons = {\n",
        "        \"Mutability\": \"Strings are immutable, lists are mutable.\",\n",
        "        \"Modification\": \"Strings cannot be changed in place, lists can be modified.\",\n",
        "        \"Indexing\": \"Both support indexing, but lists allow changing elements.\",\n",
        "        \"Operations\": \"Strings support concatenation, lists support append/extend.\",\n",
        "        \"Methods\": \"Different methods: string methods (e.g., upper()), list methods (e.g., append()).\"\n",
        "    }\n",
        "    return comparisons\n",
        "\n",
        "# Example usage:\n",
        "print(\"String vs List:\", string_vs_list())\n",
        "Answer:"
      ],
      "metadata": {
        "id": "OfiTI0pv1QbU"
      }
    },
    {
      "cell_type": "markdown",
      "source": [
        "4.Write a string for your own of approximately 40 in length and perform any 5 different string operations on that."
      ],
      "metadata": {
        "id": "riR1PWxG1Qdq"
      }
    },
    {
      "cell_type": "code",
      "source": [
        "#Write your code here\n",
        "def string_operations():\n",
        "    s = \"Python programming is very interesting.\"\n",
        "    return {\n",
        "        \"Uppercase\": s.upper(),\n",
        "        \"Lowercase\": s.lower(),\n",
        "        \"Title Case\": s.title(),\n",
        "        \"Reversed\": s[::-1],\n",
        "        \"Word Count\": len(s.split())\n",
        "    }\n",
        "\n",
        "# Example usage:\n",
        "print(\"String operations:\", string_operations())\n"
      ],
      "metadata": {
        "id": "3bHyrDS12e8i",
        "colab": {
          "base_uri": "https://localhost:8080/"
        },
        "outputId": "16f775bb-dc67-4bef-944a-d3bb6b6d56d9"
      },
      "execution_count": 3,
      "outputs": [
        {
          "output_type": "stream",
          "name": "stdout",
          "text": [
            "String operations: {'Uppercase': 'PYTHON PROGRAMMING IS VERY INTERESTING.', 'Lowercase': 'python programming is very interesting.', 'Title Case': 'Python Programming Is Very Interesting.', 'Reversed': '.gnitseretni yrev si gnimmargorp nohtyP', 'Word Count': 5}\n"
          ]
        }
      ]
    },
    {
      "cell_type": "markdown",
      "source": [
        "5.Explain the concatination in strings with a neat example."
      ],
      "metadata": {
        "id": "bbUm7VVN1Qfu"
      }
    },
    {
      "cell_type": "code",
      "source": [
        "#write your code and explanation here\n",
        "def string_concatenation():\n",
        "    s1 = \"Hello, \"\n",
        "    s2 = \"World!\"\n",
        "    return s1 + s2  # Example of string concatenation\n",
        "\n",
        "# Example usage:\n",
        "print(\"String Concatenation:\", string_concatenation())"
      ],
      "metadata": {
        "id": "y9292Q452tF0",
        "colab": {
          "base_uri": "https://localhost:8080/"
        },
        "outputId": "10961a6f-fd7f-4d6d-ec8c-36be868f0d09"
      },
      "execution_count": 4,
      "outputs": [
        {
          "output_type": "stream",
          "name": "stdout",
          "text": [
            "String Concatenation: Hello, World!\n"
          ]
        }
      ]
    },
    {
      "cell_type": "code",
      "source": [],
      "metadata": {
        "id": "vnMNtJgq2xuG"
      },
      "execution_count": null,
      "outputs": []
    }
  ]
}
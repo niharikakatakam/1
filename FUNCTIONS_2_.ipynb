{
  "nbformat": 4,
  "nbformat_minor": 0,
  "metadata": {
    "colab": {
      "provenance": [],
      "include_colab_link": true
    },
    "kernelspec": {
      "name": "python3",
      "display_name": "Python 3"
    },
    "language_info": {
      "name": "python"
    }
  },
  "cells": [
    {
      "cell_type": "markdown",
      "metadata": {
        "id": "view-in-github",
        "colab_type": "text"
      },
      "source": [
        "<a href=\"https://colab.research.google.com/github/niharikakatakam/1/blob/main/FUNCTIONS_2_.ipynb\" target=\"_parent\"><img src=\"https://colab.research.google.com/assets/colab-badge.svg\" alt=\"Open In Colab\"/></a>"
      ]
    },
    {
      "cell_type": "markdown",
      "source": [
        "*** USE THE CONCEPT OF FUNCTIONS TO SOLVE THE BELOW PROGRAMMING QUESTIONS ***"
      ],
      "metadata": {
        "id": "iW-mnZaZRsWX"
      }
    },
    {
      "cell_type": "markdown",
      "source": [
        "1) Write a Python function that accepts a string and counts the number of upper and lower case letters.\n",
        "\n",
        "Sample String : 'The quick Brow Fox'\n",
        "\n",
        "Expected Output :\n",
        "\n",
        "No. of Upper case characters : 3\n",
        "\n",
        "No. of Lower case Characters : 12"
      ],
      "metadata": {
        "id": "gZjDc6eiRsYf"
      }
    },
    {
      "cell_type": "code",
      "source": [
        "#WRITE YOUR CODE HERE\n",
        "def count_case(s):\n",
        "    upper_count = sum(1 for char in s if char.isupper())\n",
        "    lower_count = sum(1 for char in s if char.islower())\n",
        "    print(\"No. of Upper case characters:\", upper_count)\n",
        "    print(\"No. of Lower case Characters:\", lower_count)\n",
        "\n",
        "# Sample string\n",
        "sample_str = 'The quick Brow Fox'\n",
        "\n",
        "# Calling the function\n",
        "count_case(sample_str)\n"
      ],
      "metadata": {
        "id": "wGtk-weiR-5t"
      },
      "execution_count": null,
      "outputs": []
    },
    {
      "cell_type": "markdown",
      "source": [
        "2) Write a Python function that takes a list and returns a new list with distinct elements from the first list.\n",
        "\n",
        "Sample List : [1,2,3,3,3,3,4,5]\n",
        "\n",
        "Unique List : [1, 2, 3, 4, 5]"
      ],
      "metadata": {
        "id": "bmt7_PqqRsaw"
      }
    },
    {
      "cell_type": "code",
      "source": [
        "#WRITE YOUR CODE HEREdef unique_elements(lst):\n",
        "    return list(set(lst))\n",
        "\n",
        "# Sample list\n",
        "sample_list = [1, 2, 3, 3, 3, 3, 4, 5]\n",
        "\n",
        "# Calling the function\n",
        "print(\"Unique List:\", unique_elements(sample_list))\n"
      ],
      "metadata": {
        "id": "Za2S_kbzSQJZ"
      },
      "execution_count": null,
      "outputs": []
    },
    {
      "cell_type": "markdown",
      "source": [
        "3) Write a Python function that takes a number as a parameter and checks whether the number is prime or not.\n",
        "\n",
        "Note : A prime number (or a prime) is a natural number greater than 1 and that has no positive divisors other than 1 and itself."
      ],
      "metadata": {
        "id": "adx-jfbnRsdC"
      }
    },
    {
      "cell_type": "code",
      "source": [
        "#WRITE YOUR CODE HERE\n",
        "def is_prime(n):\n",
        "    if n < 2:\n",
        "        return False\n",
        "    for i in range(2, int(n ** 0.5) + 1):\n",
        "        if n % i == 0:\n",
        "            return False\n",
        "    return True\n",
        "\n",
        "# Sample input\n",
        "num = 29  # Change this number to test\n",
        "\n",
        "# Calling the function\n",
        "print(f\"Is {num} a prime number?:\", is_prime(num))\n"
      ],
      "metadata": {
        "id": "RaBolJpSSa4N"
      },
      "execution_count": null,
      "outputs": []
    },
    {
      "cell_type": "markdown",
      "source": [
        "4)Write a Python program to print the even numbers from a given list.\n",
        "\n",
        "Sample List : [1, 2, 3, 4, 5, 6, 7, 8, 9]\n",
        "\n",
        "Expected Result : [2, 4, 6, 8]\n"
      ],
      "metadata": {
        "id": "P2i2bBwIRsfQ"
      }
    },
    {
      "cell_type": "code",
      "source": [
        "# WRITE YOUR CODE HERE\n",
        "def even_numbers(lst):\n",
        "    return [num for num in lst if num % 2 == 0]\n",
        "\n",
        "# Sample list\n",
        "sample_list = [1, 2, 3, 4, 5, 6, 7, 8, 9]\n",
        "\n",
        "# Calling the function\n",
        "print(\"Even numbers:\", even_numbers(sample_list))\n"
      ],
      "metadata": {
        "id": "32Rk_UCp_pAT"
      },
      "execution_count": null,
      "outputs": []
    },
    {
      "cell_type": "markdown",
      "source": [
        "5) Write a Python function to check whether a string is a pangram or not.\n",
        "\n",
        "Note : Pangrams are words or sentences containing every letter of the alphabet at least once.\n",
        "\n",
        "For example : \"The quick brown fox jumps over the lazy dog\""
      ],
      "metadata": {
        "id": "kaTTpignRsh7"
      }
    },
    {
      "cell_type": "code",
      "source": [
        "# WRITE YOUR CODE HERE\n",
        "import string\n",
        "\n",
        "def is_pangram(s):\n",
        "    return set(string.ascii_lowercase).issubset(set(s.lower()))\n",
        "\n",
        "# Sample string\n",
        "sample_str = \"The quick brown fox jumps over the lazy dog\"\n",
        "\n",
        "# Calling the function\n",
        "print(\"Is pangram?:\", is_pangram(sample_str))\n"
      ],
      "metadata": {
        "id": "EHEntu3P_5s8"
      },
      "execution_count": null,
      "outputs": []
    },
    {
      "cell_type": "markdown",
      "source": [],
      "metadata": {
        "id": "3InqavJfRslk"
      }
    }
  ]
}
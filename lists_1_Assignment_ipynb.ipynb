{
  "nbformat": 4,
  "nbformat_minor": 0,
  "metadata": {
    "colab": {
      "provenance": [],
      "include_colab_link": true
    },
    "kernelspec": {
      "name": "python3",
      "display_name": "Python 3"
    },
    "language_info": {
      "name": "python"
    }
  },
  "cells": [
    {
      "cell_type": "markdown",
      "metadata": {
        "id": "view-in-github",
        "colab_type": "text"
      },
      "source": [
        "<a href=\"https://colab.research.google.com/github/niharikakatakam/1/blob/main/lists_1_Assignment_ipynb.ipynb\" target=\"_parent\"><img src=\"https://colab.research.google.com/assets/colab-badge.svg\" alt=\"Open In Colab\"/></a>"
      ]
    },
    {
      "cell_type": "markdown",
      "source": [
        "1.Are lists mutable or immutable, explain with an example"
      ],
      "metadata": {
        "id": "Mxypr15V3U7e"
      }
    },
    {
      "cell_type": "code",
      "source": [
        "\n",
        "def lists_are_mutable():\n",
        "    example_list = [1, 2, 3]\n",
        "    example_list.append(4)  # Modifying the list\n",
        "    example_list[0] = 10  # Changing an element\n",
        "    return example_list  # Lists can be changed\n"
      ],
      "metadata": {
        "id": "c_aTKXsT3p0P"
      },
      "execution_count": 8,
      "outputs": []
    },
    {
      "cell_type": "markdown",
      "source": [],
      "metadata": {
        "id": "Jd2G4J_c3tm7"
      }
    },
    {
      "cell_type": "markdown",
      "source": [
        "2.Take any example of list on your own and perform atleast 5 list operations on that"
      ],
      "metadata": {
        "id": "uPYH4kpZ3U97"
      }
    },
    {
      "cell_type": "code",
      "source": [
        "#write your code here\n",
        "def list_operations():\n",
        "    lst = [10, 20, 30, 40, 50]\n",
        "    return {\n",
        "        \"Append\": lst + [60],\n",
        "        \"Remove\": [x for x in lst if x != 30],\n",
        "        \"Reverse\": lst[::-1],\n",
        "        \"Sort\": sorted(lst),\n",
        "        \"Length\": len(lst)\n",
        "    }"
      ],
      "metadata": {
        "id": "vSxe0pwG36ME"
      },
      "execution_count": 3,
      "outputs": []
    },
    {
      "cell_type": "markdown",
      "source": [
        "3.Create a new list containing only the even numbers from the original list.\n",
        "\n",
        "original list ;[1,2,2,4,5,6,7,12,3,456,78,67,89,90]"
      ],
      "metadata": {
        "id": "1aSo9eEU3VAT"
      }
    },
    {
      "cell_type": "code",
      "source": [
        "#write your code here\n",
        "\n",
        "def filter_even_numbers(original_list):\n",
        "    return [num for num in original_list if num % 2 == 0]"
      ],
      "metadata": {
        "id": "e-_3vMX54Upe"
      },
      "execution_count": 4,
      "outputs": []
    },
    {
      "cell_type": "markdown",
      "source": [
        "4.Create a new list with the squares of each element in the original list.\n",
        "\n",
        "original list : [3,5,6,8,2,45]"
      ],
      "metadata": {
        "id": "y1b95q7k3VCz"
      }
    },
    {
      "cell_type": "code",
      "source": [
        "#write your code here\n",
        "def square_elements(original_list):\n",
        "    return [num ** 2 for num in original_list]\n"
      ],
      "metadata": {
        "id": "97M5xax24jM4"
      },
      "execution_count": 6,
      "outputs": []
    },
    {
      "cell_type": "markdown",
      "source": [
        "5.Check if all elements in the list are positive and return all the positive elements in a new list.\n",
        "\n",
        "input ; [12,23,4,56,77,-89,7,90,90,-87,-99]"
      ],
      "metadata": {
        "id": "pzrQ5WBZ3VFQ"
      }
    },
    {
      "cell_type": "code",
      "source": [
        "# write your code here\n",
        "\n",
        "def filter_positive_numbers(input_list):\n",
        "    return [num for num in input_list if num > 0]\n",
        "\n"
      ],
      "metadata": {
        "id": "8x0148io5FcT"
      },
      "execution_count": 7,
      "outputs": []
    }
  ]
}
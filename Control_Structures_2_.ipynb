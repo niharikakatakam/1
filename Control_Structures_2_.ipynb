{
  "nbformat": 4,
  "nbformat_minor": 0,
  "metadata": {
    "colab": {
      "provenance": [],
      "include_colab_link": true
    },
    "kernelspec": {
      "name": "python3",
      "display_name": "Python 3"
    },
    "language_info": {
      "name": "python"
    }
  },
  "cells": [
    {
      "cell_type": "markdown",
      "metadata": {
        "id": "view-in-github",
        "colab_type": "text"
      },
      "source": [
        "<a href=\"https://colab.research.google.com/github/niharikakatakam/1/blob/main/Control_Structures_2_.ipynb\" target=\"_parent\"><img src=\"https://colab.research.google.com/assets/colab-badge.svg\" alt=\"Open In Colab\"/></a>"
      ]
    },
    {
      "cell_type": "markdown",
      "source": [
        "*** USE THE CONCEPT OF LOOPS TO SOLVE THE BELOW PROGRAMS***"
      ],
      "metadata": {
        "id": "LntIlHO5OfPf"
      }
    },
    {
      "cell_type": "markdown",
      "source": [
        "1) Python program to count the total number of digits in a number.\n",
        "\n",
        "TAKE THE INPUT NUMBER : 123456\n",
        "\n",
        "\n",
        "\n"
      ],
      "metadata": {
        "id": "vxHfbNtoOfRV"
      }
    },
    {
      "cell_type": "code",
      "source": [
        "#wRITE YOUR CODE HERE\n",
        "# Take input number\n",
        "num = 123456\n",
        "\n",
        "# Convert number to string and count its length\n",
        "digit_count = len(str(num))\n",
        "\n",
        "# Print the result\n",
        "print(\"Total number of digits in\", num, \"is:\", digit_count)"
      ],
      "metadata": {
        "id": "_PKg5umLO2-q",
        "colab": {
          "base_uri": "https://localhost:8080/"
        },
        "outputId": "ed11ba49-37e2-44da-e7e5-7687f0137a7b"
      },
      "execution_count": 1,
      "outputs": [
        {
          "output_type": "stream",
          "name": "stdout",
          "text": [
            "Total number of digits in 123456 is: 6\n"
          ]
        }
      ]
    },
    {
      "cell_type": "markdown",
      "source": [
        "2) Python program to count the number of even and odd numbers from a series of numbers.\n",
        "\n",
        "num_list = [1,3,5,6,99,134,55]"
      ],
      "metadata": {
        "id": "bXf8Z8feOfTn"
      }
    },
    {
      "cell_type": "code",
      "source": [
        "#WRITE YOUR CODE HERE\n",
        "# Given list of numbers\n",
        "num_list = [1, 3, 5, 6, 99, 134, 55]\n",
        "\n",
        "# Initialize counters\n",
        "even_count = 0\n",
        "odd_count = 0\n",
        "\n",
        "# Using a for loop to count even and odd numbers\n",
        "for num in num_list:\n",
        "    if num % 2 == 0:\n",
        "        even_count += 1\n",
        "    else:\n",
        "        odd_count += 1\n",
        "\n",
        "# Print the results\n",
        "print(\"Total even numbers:\", even_count)\n",
        "print(\"Total odd numbers:\", odd_count)\n"
      ],
      "metadata": {
        "id": "QzZjjwRCPIip",
        "colab": {
          "base_uri": "https://localhost:8080/"
        },
        "outputId": "831a9d72-6768-475d-a97c-e52eb9b4009c"
      },
      "execution_count": 2,
      "outputs": [
        {
          "output_type": "stream",
          "name": "stdout",
          "text": [
            "Total even numbers: 2\n",
            "Total odd numbers: 5\n"
          ]
        }
      ]
    },
    {
      "cell_type": "markdown",
      "source": [
        "3) Python program to get the Fibonacci series between 0 to 50."
      ],
      "metadata": {
        "id": "Ae6CdE7hOfWZ"
      }
    },
    {
      "cell_type": "code",
      "source": [
        "#WRITE YOUR CODE HERE\n",
        "# Initialize first two Fibonacci numbers\n",
        "a, b = 0, 1\n",
        "\n",
        "# Print the Fibonacci series up to 50\n",
        "print(\"Fibonacci series up to 50:\")\n",
        "\n",
        "while a <= 50:\n",
        "    print(a, end=\" \")\n",
        "    a, b = b, a + b  # Update values for next term\n"
      ],
      "metadata": {
        "id": "_IIZYCLPPTwI",
        "colab": {
          "base_uri": "https://localhost:8080/"
        },
        "outputId": "181b98c5-5c3c-4183-b3ed-ed417a5a1ffb"
      },
      "execution_count": 3,
      "outputs": [
        {
          "output_type": "stream",
          "name": "stdout",
          "text": [
            "Fibonacci series up to 50:\n",
            "0 1 1 2 3 5 8 13 21 34 "
          ]
        }
      ]
    },
    {
      "cell_type": "markdown",
      "source": [
        "4) Python program that accepts a string and calculates the number of digits and letters.\n",
        "\n",
        "Input\n",
        "\n",
        "WEBBLINDERS1234"
      ],
      "metadata": {
        "id": "VYbquVMROfZz"
      }
    },
    {
      "cell_type": "code",
      "source": [
        "#WRITE YOUR CODE HERE\n",
        "# Given input string\n",
        "input_str = \"WEBBLINDERS1234\"\n",
        "\n",
        "# Initiali\n",
        "# Given input string\n",
        "input_str = \"WEBBLINDERS1234\"\n",
        "\n",
        "# Initialize counters\n",
        "letter_count = 0\n",
        "digit_count = 0\n",
        "\n",
        "# Using a for loop to count letters and digits\n",
        "for char in input_str:\n",
        "    if char.isalpha():  # Check if character is a letter\n",
        "        letter_count += 1\n",
        "    elif char.isdigit():  # Check if character is a digit\n",
        "        digit_count += 1\n",
        "\n",
        "# Print the results\n",
        "print(\"Total letters:\", letter_count)\n",
        "print(\"Total digits:\", digit_count)\n",
        "\n",
        "\n"
      ],
      "metadata": {
        "id": "iGYeja7XPop3",
        "colab": {
          "base_uri": "https://localhost:8080/"
        },
        "outputId": "2d1e405f-fb8b-47b5-e64f-b7aa89060136"
      },
      "execution_count": 5,
      "outputs": [
        {
          "output_type": "stream",
          "name": "stdout",
          "text": [
            "Total letters: 11\n",
            "Total digits: 4\n"
          ]
        }
      ]
    },
    {
      "cell_type": "markdown",
      "source": [
        "5) Python program to display all numbers within a range except the prime numbers.\n",
        "\n",
        "INPUT RANGE : 30 TO 80"
      ],
      "metadata": {
        "id": "RiVenPeDPqs_"
      }
    },
    {
      "cell_type": "code",
      "source": [
        "#WRITE YOUR CODE HERE\n",
        "# Function to check if a number is prime\n",
        "def is_prime(num):\n",
        "    if num < 2:\n",
        "        return False\n",
        "    for i in range(2, int(num ** 0.5) + 1):  # Check divisibility up to sqrt(num)\n",
        "        if num % i == 0:\n",
        "            return False\n",
        "    return True\n",
        "\n",
        "# Given range\n",
        "start, end = 30, 80\n",
        "\n",
        "# Using a for loop to print non-prime numbers\n",
        "print(\"Numbers from 30 to 80 except prime numbers:\")\n",
        "for num in range(start, end + 1):\n",
        "    if not is_prime(num):  # Print only non-prime numbers\n",
        "        print(num, end=\" \")\n"
      ],
      "metadata": {
        "id": "UTm21ayAPX02",
        "colab": {
          "base_uri": "https://localhost:8080/"
        },
        "outputId": "df007405-4c30-45f4-b848-2665bfdb1bfe"
      },
      "execution_count": 6,
      "outputs": [
        {
          "output_type": "stream",
          "name": "stdout",
          "text": [
            "Numbers from 30 to 80 except prime numbers:\n",
            "30 32 33 34 35 36 38 39 40 42 44 45 46 48 49 50 51 52 54 55 56 57 58 60 62 63 64 65 66 68 69 70 72 74 75 76 77 78 80 "
          ]
        }
      ]
    }
  ]
}